{
 "cells": [
  {
   "cell_type": "code",
   "execution_count": 1,
   "id": "dc4060ac-029a-48fa-b6fa-4524a3652b87",
   "metadata": {},
   "outputs": [
    {
     "name": "stdout",
     "output_type": "stream",
     "text": [
      "You have access to internal data\n"
     ]
    }
   ],
   "source": [
    "import splusdata\n",
    "import pandas as pd\n",
    "import numpy as np\n",
    "import os\n",
    "\n",
    "from astropy.coordinates import SkyCoord\n",
    "import astropy.units as u\n",
    "\n",
    "bands = ['R', 'G', 'I', 'U', 'Z', 'F378', 'F395', 'F410', 'F430', 'F515', 'F660', 'F861']\n",
    "downloaded_fits = 'downloaded_fits/'\n",
    "\n",
    "conn = splusdata.connect ( 'juanpablocalderon', 'choco134' ) "
   ]
  },
  {
   "cell_type": "code",
   "execution_count": 33,
   "id": "4c65dfb1-a782-4475-8e81-d87e71d8f47a",
   "metadata": {},
   "outputs": [
    {
     "name": "stdout",
     "output_type": "stream",
     "text": [
      "[*] Downloaded 2MASXJ03351141-3545324_53.79756543985_-35.75900145802999_1500_F861.fits.fz"
     ]
    }
   ],
   "source": [
    "for gal in ['2MASX J03351141-3545324']: #['NGC 1386', 'LEDA 13515', 'NGC 1389', 'NGC 1404', 'NGC 1408', 'NGC 1399']:\n",
    "    coord = SkyCoord.from_name( gal )\n",
    "    ra = str(coord.ra.deg)\n",
    "    dec = str(coord.dec.deg)\n",
    "\n",
    "    size = 1500\n",
    "\n",
    "    id  = gal.replace(' ', '')\n",
    "    for band in bands:\n",
    "        name = f'{id}_{ra}_{dec}_{size}_{band}.fits.fz'\n",
    "        try:\n",
    "            cut = conn.get_cut(ra, dec, size, band)\n",
    "            cut.writeto ( os.path.join(downloaded_fits, name), overwrite = True )\n",
    "            print ( f'\\r[*] Downloaded ' + name, end = '', flush = True )\n",
    "        except:\n",
    "            print ( \"\\n[!] Error al descargar:\", name) # Esto probablemente se deba a que no esta esa coordenada en splus\n"
   ]
  },
  {
   "cell_type": "code",
   "execution_count": 34,
   "id": "f88f03d4-0028-44b3-9883-e521a2828a0d",
   "metadata": {},
   "outputs": [
    {
     "name": "stdout",
     "output_type": "stream",
     "text": [
      "downloaded_fits/NGC1404_54.7163208_-35.5943917_1500_G.fits.fz SPLUS-s28s34\n",
      "downloaded_fits/LEDA13515_55.097542_-35.275778_1500_G.fits.fz SPLUS-s27s35\n",
      "downloaded_fits/NGC1399_54.62117917_-35.45074167_1500_G.fits.fz SPLUS-s27s34\n",
      "downloaded_fits/NGC1386_54.1926583_-35.999275_1500_G.fits.fz SPLUS-s28s34\n",
      "downloaded_fits/NGC1389_54.29892806274_-35.7460758875_1500_G.fits.fz SPLUS-s28s34\n",
      "downloaded_fits/NGC1408_54.8392_-35.5196_1500_G.fits.fz SPLUS-s28s34\n",
      "downloaded_fits/2MASXJ03351141-3545324_53.79756543985_-35.75900145802999_1500_G.fits.fz SPLUS-s28s33\n"
     ]
    }
   ],
   "source": [
    "import glob\n",
    "\n",
    "for image in glob.glob('downloaded_fits/*_G.fits.fz'):\n",
    "    print ( image, fits.open(image)[1].header['OBJECT'] )\n"
   ]
  },
  {
   "cell_type": "code",
   "execution_count": null,
   "id": "d7dfbc14-9345-47af-bfb1-49859dfae0b8",
   "metadata": {},
   "outputs": [],
   "source": [
    "=> OBJECT  = 'SPLUS-s27s34'       / name of observed object                        "
   ]
  },
  {
   "cell_type": "code",
   "execution_count": 45,
   "id": "e5edb81a-c8c7-4b87-bb8d-38b1a30f9f51",
   "metadata": {},
   "outputs": [],
   "source": [
    "import splusdata\n",
    "from astropy.io import fits\n",
    "import os\n",
    "import getpass\n",
    "import shutil\n",
    "import subprocess\n",
    "import csv\n",
    "import re\n",
    "import pandas as pd\n",
    "from astropy.table import Table\n",
    "from functools import reduce"
   ]
  },
  {
   "cell_type": "code",
   "execution_count": 36,
   "id": "374a4484-f1b0-4b99-8176-1bc51d599c00",
   "metadata": {},
   "outputs": [],
   "source": [
    "lista_campos = [\"SPLUS-s28s33\"]\n",
    "lista_filtros = (\"F378\", \"F395\", \"F410\", \"F430\", \"F515\", \"F660\", \"F861\", \"U\", \"G\", \"R\", \"I\", \"Z\")"
   ]
  },
  {
   "cell_type": "code",
   "execution_count": 37,
   "id": "ef04e45f-e437-4485-bc5b-6f4ad24c6fe8",
   "metadata": {},
   "outputs": [
    {
     "name": "stdout",
     "output_type": "stream",
     "text": [
      "Procesando: SPLUS-s28s33\n",
      "Procesando: SPLUS-s28s33 F378\n",
      "Procesando: SPLUS-s28s33 F395\n",
      "Procesando: SPLUS-s28s33 F410\n",
      "Procesando: SPLUS-s28s33 F430\n",
      "Procesando: SPLUS-s28s33 F515\n",
      "Procesando: SPLUS-s28s33 F660\n",
      "Procesando: SPLUS-s28s33 F861\n",
      "Procesando: SPLUS-s28s33 U\n",
      "Procesando: SPLUS-s28s33 G\n",
      "Procesando: SPLUS-s28s33 R\n",
      "Procesando: SPLUS-s28s33 I\n",
      "Procesando: SPLUS-s28s33 Z\n"
     ]
    }
   ],
   "source": [
    "for campo in lista_campos:\n",
    "    print(\"Procesando:\", campo)\n",
    "    os.makedirs(f'Campos/{campo}/Imagenes_originales/', exist_ok=True)\n",
    "    for filtro in lista_filtros:\n",
    "        print(\"Procesando:\", campo, filtro)\n",
    "        hdu = conn.get_field(campo, filtro)\n",
    "        hdu.writeto(f\"Campos/{campo}/Imagenes_originales/{campo}_{filtro}_swp.fits\", overwrite=True)\n",
    "        hdul1 = fits.open(f\"Campos/{campo}/Imagenes_originales/{campo}_{filtro}_swp.fits\")\n",
    "        hdr2 = hdul1[1].header\n",
    "        #print(hdr2) # Aquí se revisa el header\n",
    "        hdul1_data = fits.getdata(f\"Campos/{campo}/Imagenes_originales/{campo}_{filtro}_swp.fits\")\n",
    "        fits.writeto(f\"Campos/{campo}/Imagenes_originales/{campo}_{filtro}_swp.fits\", data = hdul1_data, header = hdr2, overwrite = True)\n",
    "        "
   ]
  },
  {
   "cell_type": "code",
   "execution_count": 100,
   "id": "c86e7603-2999-4a15-b893-01f9368134f9",
   "metadata": {},
   "outputs": [],
   "source": [
    "from reproject.mosaicking import find_optimal_celestial_wcs\n",
    "from reproject.mosaicking import reproject_and_coadd\n",
    "from reproject import reproject_interp, reproject_exact\n",
    "\n",
    "from astropy.io import fits\n",
    "import numpy as np"
   ]
  },
  {
   "cell_type": "code",
   "execution_count": 97,
   "id": "f8b5dd48-e4fc-4cf1-987b-f5ac4532b5c8",
   "metadata": {},
   "outputs": [
    {
     "name": "stdout",
     "output_type": "stream",
     "text": [
      "SPLUS-s27s34 3.664375746478333e-10 23.59\n",
      "SPLUS-s27s35 3.661002285465423e-10 23.591\n",
      "SPLUS-s28s33 3.691475581654127e-10 23.582\n",
      "SPLUS-s28s34 3.577667699361103e-10 23.616\n"
     ]
    }
   ],
   "source": [
    "zp = pd.read_csv ( 'tablas/iDR4_zero-points.csv' )\n",
    "\n",
    "zp.rename ( columns = {'ZP_J0378':'ZP_f378', 'ZP_J0395':'ZP_f395', 'ZP_J0410':'ZP_f410', \n",
    "                       'ZP_J0430':'ZP_f430', 'ZP_J0515':'ZP_f515', 'ZP_J0660':'ZP_f660', 'ZP_J0861':'ZP_f861'}, inplace = True )\n",
    "\n",
    "for f in [ 'SPLUS-s27s34', 'SPLUS-s27s35', 'SPLUS-s28s33', 'SPLUS-s28s34' ]:\n",
    "    print ( f, 10** ((-0.4) * zp[ zp['Field'] == f ]['ZP_g'].values[0]),  zp[ zp['Field'] == f ]['ZP_g'].values[0] )"
   ]
  },
  {
   "cell_type": "markdown",
   "id": "54ece9e2-39a5-4fbd-be1b-5d2377ccdcd1",
   "metadata": {},
   "source": [
    "# Creo imagenes con extension _zp que tienen aplicado el punto de zero"
   ]
  },
  {
   "cell_type": "code",
   "execution_count": 102,
   "id": "a7293974-a8ce-483d-bfd5-53b56b45c93b",
   "metadata": {
    "collapsed": true,
    "jupyter": {
     "outputs_hidden": true
    },
    "tags": []
   },
   "outputs": [
    {
     "name": "stdout",
     "output_type": "stream",
     "text": [
      "[*] New file:  /home/jpcalderon/2023/Fornax/notebooks/Campos/SPLUS-s27s34/Imagenes_originales/SPLUS-s27s34_R_swp_zp.fits\n",
      "[*] New file:  /home/jpcalderon/2023/Fornax/notebooks/Campos/SPLUS-s27s35/Imagenes_originales/SPLUS-s27s35_R_swp_zp.fits\n",
      "[*] New file:  /home/jpcalderon/2023/Fornax/notebooks/Campos/SPLUS-s28s33/Imagenes_originales/SPLUS-s28s33_R_swp_zp.fits\n",
      "[*] New file:  /home/jpcalderon/2023/Fornax/notebooks/Campos/SPLUS-s28s34/Imagenes_originales/SPLUS-s28s34_R_swp_zp.fits\n",
      "[*] New file:  /home/jpcalderon/2023/Fornax/notebooks/Campos/SPLUS-s27s34/Imagenes_originales/SPLUS-s27s34_G_swp_zp.fits\n",
      "[*] New file:  /home/jpcalderon/2023/Fornax/notebooks/Campos/SPLUS-s27s35/Imagenes_originales/SPLUS-s27s35_G_swp_zp.fits\n",
      "[*] New file:  /home/jpcalderon/2023/Fornax/notebooks/Campos/SPLUS-s28s33/Imagenes_originales/SPLUS-s28s33_G_swp_zp.fits\n",
      "[*] New file:  /home/jpcalderon/2023/Fornax/notebooks/Campos/SPLUS-s28s34/Imagenes_originales/SPLUS-s28s34_G_swp_zp.fits\n",
      "[*] New file:  /home/jpcalderon/2023/Fornax/notebooks/Campos/SPLUS-s27s34/Imagenes_originales/SPLUS-s27s34_I_swp_zp.fits\n",
      "[*] New file:  /home/jpcalderon/2023/Fornax/notebooks/Campos/SPLUS-s27s35/Imagenes_originales/SPLUS-s27s35_I_swp_zp.fits\n",
      "[*] New file:  /home/jpcalderon/2023/Fornax/notebooks/Campos/SPLUS-s28s33/Imagenes_originales/SPLUS-s28s33_I_swp_zp.fits\n",
      "[*] New file:  /home/jpcalderon/2023/Fornax/notebooks/Campos/SPLUS-s28s34/Imagenes_originales/SPLUS-s28s34_I_swp_zp.fits\n",
      "[*] New file:  /home/jpcalderon/2023/Fornax/notebooks/Campos/SPLUS-s27s34/Imagenes_originales/SPLUS-s27s34_U_swp_zp.fits\n",
      "[*] New file:  /home/jpcalderon/2023/Fornax/notebooks/Campos/SPLUS-s27s35/Imagenes_originales/SPLUS-s27s35_U_swp_zp.fits\n",
      "[*] New file:  /home/jpcalderon/2023/Fornax/notebooks/Campos/SPLUS-s28s33/Imagenes_originales/SPLUS-s28s33_U_swp_zp.fits\n",
      "[*] New file:  /home/jpcalderon/2023/Fornax/notebooks/Campos/SPLUS-s28s34/Imagenes_originales/SPLUS-s28s34_U_swp_zp.fits\n",
      "[*] New file:  /home/jpcalderon/2023/Fornax/notebooks/Campos/SPLUS-s27s34/Imagenes_originales/SPLUS-s27s34_Z_swp_zp.fits\n",
      "[*] New file:  /home/jpcalderon/2023/Fornax/notebooks/Campos/SPLUS-s27s35/Imagenes_originales/SPLUS-s27s35_Z_swp_zp.fits\n",
      "[*] New file:  /home/jpcalderon/2023/Fornax/notebooks/Campos/SPLUS-s28s33/Imagenes_originales/SPLUS-s28s33_Z_swp_zp.fits\n",
      "[*] New file:  /home/jpcalderon/2023/Fornax/notebooks/Campos/SPLUS-s28s34/Imagenes_originales/SPLUS-s28s34_Z_swp_zp.fits\n",
      "[*] New file:  /home/jpcalderon/2023/Fornax/notebooks/Campos/SPLUS-s27s34/Imagenes_originales/SPLUS-s27s34_F378_swp_zp.fits\n",
      "[*] New file:  /home/jpcalderon/2023/Fornax/notebooks/Campos/SPLUS-s27s35/Imagenes_originales/SPLUS-s27s35_F378_swp_zp.fits\n",
      "[*] New file:  /home/jpcalderon/2023/Fornax/notebooks/Campos/SPLUS-s28s33/Imagenes_originales/SPLUS-s28s33_F378_swp_zp.fits\n",
      "[*] New file:  /home/jpcalderon/2023/Fornax/notebooks/Campos/SPLUS-s28s34/Imagenes_originales/SPLUS-s28s34_F378_swp_zp.fits\n",
      "[*] New file:  /home/jpcalderon/2023/Fornax/notebooks/Campos/SPLUS-s27s34/Imagenes_originales/SPLUS-s27s34_F395_swp_zp.fits\n",
      "[*] New file:  /home/jpcalderon/2023/Fornax/notebooks/Campos/SPLUS-s27s35/Imagenes_originales/SPLUS-s27s35_F395_swp_zp.fits\n",
      "[*] New file:  /home/jpcalderon/2023/Fornax/notebooks/Campos/SPLUS-s28s33/Imagenes_originales/SPLUS-s28s33_F395_swp_zp.fits\n",
      "[*] New file:  /home/jpcalderon/2023/Fornax/notebooks/Campos/SPLUS-s28s34/Imagenes_originales/SPLUS-s28s34_F395_swp_zp.fits\n",
      "[*] New file:  /home/jpcalderon/2023/Fornax/notebooks/Campos/SPLUS-s27s34/Imagenes_originales/SPLUS-s27s34_F410_swp_zp.fits\n",
      "[*] New file:  /home/jpcalderon/2023/Fornax/notebooks/Campos/SPLUS-s27s35/Imagenes_originales/SPLUS-s27s35_F410_swp_zp.fits\n",
      "[*] New file:  /home/jpcalderon/2023/Fornax/notebooks/Campos/SPLUS-s28s33/Imagenes_originales/SPLUS-s28s33_F410_swp_zp.fits\n",
      "[*] New file:  /home/jpcalderon/2023/Fornax/notebooks/Campos/SPLUS-s28s34/Imagenes_originales/SPLUS-s28s34_F410_swp_zp.fits\n",
      "[*] New file:  /home/jpcalderon/2023/Fornax/notebooks/Campos/SPLUS-s27s34/Imagenes_originales/SPLUS-s27s34_F430_swp_zp.fits\n",
      "[*] New file:  /home/jpcalderon/2023/Fornax/notebooks/Campos/SPLUS-s27s35/Imagenes_originales/SPLUS-s27s35_F430_swp_zp.fits\n",
      "[*] New file:  /home/jpcalderon/2023/Fornax/notebooks/Campos/SPLUS-s28s33/Imagenes_originales/SPLUS-s28s33_F430_swp_zp.fits\n",
      "[*] New file:  /home/jpcalderon/2023/Fornax/notebooks/Campos/SPLUS-s28s34/Imagenes_originales/SPLUS-s28s34_F430_swp_zp.fits\n",
      "[*] New file:  /home/jpcalderon/2023/Fornax/notebooks/Campos/SPLUS-s27s34/Imagenes_originales/SPLUS-s27s34_F515_swp_zp.fits\n",
      "[*] New file:  /home/jpcalderon/2023/Fornax/notebooks/Campos/SPLUS-s27s35/Imagenes_originales/SPLUS-s27s35_F515_swp_zp.fits\n",
      "[*] New file:  /home/jpcalderon/2023/Fornax/notebooks/Campos/SPLUS-s28s33/Imagenes_originales/SPLUS-s28s33_F515_swp_zp.fits\n",
      "[*] New file:  /home/jpcalderon/2023/Fornax/notebooks/Campos/SPLUS-s28s34/Imagenes_originales/SPLUS-s28s34_F515_swp_zp.fits\n",
      "[*] New file:  /home/jpcalderon/2023/Fornax/notebooks/Campos/SPLUS-s27s34/Imagenes_originales/SPLUS-s27s34_F660_swp_zp.fits\n",
      "[*] New file:  /home/jpcalderon/2023/Fornax/notebooks/Campos/SPLUS-s27s35/Imagenes_originales/SPLUS-s27s35_F660_swp_zp.fits\n",
      "[*] New file:  /home/jpcalderon/2023/Fornax/notebooks/Campos/SPLUS-s28s33/Imagenes_originales/SPLUS-s28s33_F660_swp_zp.fits\n",
      "[*] New file:  /home/jpcalderon/2023/Fornax/notebooks/Campos/SPLUS-s28s34/Imagenes_originales/SPLUS-s28s34_F660_swp_zp.fits\n",
      "[*] New file:  /home/jpcalderon/2023/Fornax/notebooks/Campos/SPLUS-s27s34/Imagenes_originales/SPLUS-s27s34_F861_swp_zp.fits\n",
      "[*] New file:  /home/jpcalderon/2023/Fornax/notebooks/Campos/SPLUS-s27s35/Imagenes_originales/SPLUS-s27s35_F861_swp_zp.fits\n",
      "[*] New file:  /home/jpcalderon/2023/Fornax/notebooks/Campos/SPLUS-s28s33/Imagenes_originales/SPLUS-s28s33_F861_swp_zp.fits\n",
      "[*] New file:  /home/jpcalderon/2023/Fornax/notebooks/Campos/SPLUS-s28s34/Imagenes_originales/SPLUS-s28s34_F861_swp_zp.fits\n"
     ]
    }
   ],
   "source": [
    "home = '/home/jpcalderon/'\n",
    "fitsdir = home + '2023/Fornax/notebooks/Campos/'\n",
    "output_dir = home + '2023/Fornax/notebooks/Campos/'\n",
    "\n",
    "\n",
    "for filter in bands:\n",
    "    for field in [ 'SPLUS-s27s34', 'SPLUS-s27s35', 'SPLUS-s28s33', 'SPLUS-s28s34' ]:\n",
    "        img = fitsdir + field + '/Imagenes_originales/' + field + '_' + filter + '_swp.fits'\n",
    "        with fits.open ( img ) as hdul:\n",
    "            data = hdul[0].data\n",
    "            header = hdul[0].header\n",
    "\n",
    "        new_img = fitsdir + field + '/Imagenes_originales/' + field + '_' + filter + '_swp_zp.fits'\n",
    "        try:\n",
    "            os.remove ( new_img )\n",
    "        except OSError:\n",
    "            pass\n",
    "        new_data = data + (10**((-0.4) * zp[ zp['Field'] == field ]['ZP_' + filter.lower()].values[0]))\n",
    "        new_header = header\n",
    "        print ( \"[*] New file: \", new_img )\n",
    "        fits.writeto ( new_img, data = new_data, header = new_header, overwrite = True )\n",
    "print ( \"[*] Done!\" )"
   ]
  },
  {
   "cell_type": "code",
   "execution_count": 103,
   "id": "ee84af9d-a6fd-4638-a39f-529e7f616c93",
   "metadata": {},
   "outputs": [
    {
     "name": "stdout",
     "output_type": "stream",
     "text": [
      "[*] Processing filter: G\n"
     ]
    },
    {
     "name": "stderr",
     "output_type": "stream",
     "text": [
      "WARNING: FITSFixedWarning: 'datfix' made the change 'Set DATE-OBS to '2018-10-18' from MJD-OBS'. [astropy.wcs.wcs]\n",
      "WARNING: FITSFixedWarning: 'datfix' made the change 'Set DATE-OBS to '2018-12-27' from MJD-OBS'. [astropy.wcs.wcs]\n",
      "WARNING: FITSFixedWarning: 'datfix' made the change 'Set DATE-OBS to '2018-10-18' from MJD-OBS'. [astropy.wcs.wcs]\n",
      "WARNING: FITSFixedWarning: 'datfix' made the change 'Set DATE-OBS to '2018-12-27' from MJD-OBS'. [astropy.wcs.wcs]\n"
     ]
    },
    {
     "name": "stdout",
     "output_type": "stream",
     "text": [
      "[*] Writing file: /home/jpcalderon/2023/Fornax/notebooks/Campos/NGC1399_G-test.fits\n",
      "[*] Done!\n",
      "\n"
     ]
    }
   ],
   "source": [
    "home = '/home/jpcalderon/'\n",
    "fitsdir = home + '2023/Fornax/notebooks/Campos/'\n",
    "output_dir = home + '2023/Fornax/notebooks/Campos/'\n",
    "\n",
    "for filter in ['G']: #bands:\n",
    "    print ( \"[*] Processing filter: \" + filter )\n",
    "    images = [ fits.open(fitsdir + field + '/Imagenes_originales/' + field + '_' + filter + '_swp_zp.fits')[0] for field in [ 'SPLUS-s27s34', 'SPLUS-s27s35' ] ]\n",
    "\n",
    "    wcs_out, shape_out = find_optimal_celestial_wcs ( images )\n",
    "    array, footprint = reproject_and_coadd ( images,\n",
    "                                       wcs_out, shape_out = shape_out,\n",
    "                                       reproject_function = reproject_interp ) # reproject_exact )\n",
    "    file = fitsdir + 'NGC1399_' + filter + '-test.fits'\n",
    "    print ( \"[*] Writing file: \" + file )\n",
    "    fits.writeto ( file, array, wcs_out.to_header(), overwrite = True )\n",
    "    print ( \"[*] Done!\\n\" )"
   ]
  },
  {
   "cell_type": "code",
   "execution_count": null,
   "id": "243dc9cc-815f-4b86-b195-738a71bdc539",
   "metadata": {},
   "outputs": [],
   "source": []
  },
  {
   "cell_type": "code",
   "execution_count": null,
   "id": "6c517234-2bcb-4177-837f-6ea95d7349ce",
   "metadata": {},
   "outputs": [
    {
     "name": "stdout",
     "output_type": "stream",
     "text": [
      "[*] Processing filter: R\n"
     ]
    },
    {
     "name": "stderr",
     "output_type": "stream",
     "text": [
      "WARNING: FITSFixedWarning: 'datfix' made the change 'Set DATE-OBS to '2018-10-18' from MJD-OBS'. [astropy.wcs.wcs]\n",
      "WARNING: FITSFixedWarning: 'datfix' made the change 'Set DATE-OBS to '2018-10-16' from MJD-OBS'. [astropy.wcs.wcs]\n",
      "WARNING: FITSFixedWarning: 'datfix' made the change 'Set DATE-OBS to '2018-10-17' from MJD-OBS'. [astropy.wcs.wcs]\n",
      "WARNING: FITSFixedWarning: 'datfix' made the change 'Set DATE-OBS to '2018-10-19' from MJD-OBS'. [astropy.wcs.wcs]\n",
      "WARNING: FITSFixedWarning: 'datfix' made the change 'Set DATE-OBS to '2018-10-18' from MJD-OBS'. [astropy.wcs.wcs]\n",
      "WARNING: FITSFixedWarning: 'datfix' made the change 'Set DATE-OBS to '2018-10-16' from MJD-OBS'. [astropy.wcs.wcs]\n",
      "WARNING: FITSFixedWarning: 'datfix' made the change 'Set DATE-OBS to '2018-10-17' from MJD-OBS'. [astropy.wcs.wcs]\n",
      "WARNING: FITSFixedWarning: 'datfix' made the change 'Set DATE-OBS to '2018-10-19' from MJD-OBS'. [astropy.wcs.wcs]\n"
     ]
    },
    {
     "name": "stdout",
     "output_type": "stream",
     "text": [
      "[*] Writing file: /home/jpcalderon/2023/Fornax/notebooks/Campos/NGC1399_R.fits\n",
      "[*] Done!\n",
      "\n",
      "[*] Processing filter: G\n"
     ]
    },
    {
     "name": "stderr",
     "output_type": "stream",
     "text": [
      "WARNING: FITSFixedWarning: 'datfix' made the change 'Set DATE-OBS to '2018-10-18' from MJD-OBS'. [astropy.wcs.wcs]\n",
      "WARNING: FITSFixedWarning: 'datfix' made the change 'Set DATE-OBS to '2018-12-27' from MJD-OBS'. [astropy.wcs.wcs]\n",
      "WARNING: FITSFixedWarning: 'datfix' made the change 'Set DATE-OBS to '2018-10-17' from MJD-OBS'. [astropy.wcs.wcs]\n",
      "WARNING: FITSFixedWarning: 'datfix' made the change 'Set DATE-OBS to '2018-10-19' from MJD-OBS'. [astropy.wcs.wcs]\n",
      "WARNING: FITSFixedWarning: 'datfix' made the change 'Set DATE-OBS to '2018-10-18' from MJD-OBS'. [astropy.wcs.wcs]\n",
      "WARNING: FITSFixedWarning: 'datfix' made the change 'Set DATE-OBS to '2018-12-27' from MJD-OBS'. [astropy.wcs.wcs]\n"
     ]
    }
   ],
   "source": [
    "home = '/home/jpcalderon/'\n",
    "fitsdir = home + '2023/Fornax/notebooks/Campos/'\n",
    "output_dir = home + '2023/Fornax/notebooks/Campos/'\n",
    "\n",
    "for filter in bands:\n",
    "    print ( \"[*] Processing filter: \" + filter )\n",
    "    images = [ fits.open(fitsdir + field + '/Imagenes_originales/' + field + '_' + filter + '_swp.fits')[0] for field in [ 'SPLUS-s27s34', 'SPLUS-s27s35', 'SPLUS-s28s33', 'SPLUS-s28s34' ] ]\n",
    "\n",
    "    wcs_out, shape_out = find_optimal_celestial_wcs ( images )\n",
    "    array, footprint = reproject_and_coadd ( images,\n",
    "                                       wcs_out, shape_out = shape_out,\n",
    "                                       reproject_function = reproject_interp ) # reproject_exact )\n",
    "    file = fitsdir + 'NGC1399_' + filter + '.fits'\n",
    "    print ( \"[*] Writing file: \" + file )\n",
    "    fits.writeto ( file, array, wcs_out.to_header(), overwrite = True )\n",
    "    print ( \"[*] Done!\\n\" )"
   ]
  },
  {
   "cell_type": "code",
   "execution_count": 72,
   "id": "ddd158b2-a2e2-40d6-9195-d70a132073d8",
   "metadata": {},
   "outputs": [],
   "source": [
    "data = None\n",
    "for filtr in ['G', 'Z', 'I', 'R']: \n",
    "    f =  fits.open(fitsdir + 'NGC1399_' + filtr + '.fits')\n",
    "    if data is None:\n",
    "        data = f[0].data\n",
    "    else:\n",
    "        data += f[0].data\n",
    "\n",
    "    if filtr == 'R':\n",
    "        f[0].data = data\n",
    "        f.writeto(fitsdir + 'NGC1399_detection.fits', overwrite=True)"
   ]
  },
  {
   "cell_type": "markdown",
   "id": "1b2d7521-d51f-43a0-b580-0d6834fcf686",
   "metadata": {},
   "source": [
    "EL procedimiento correcto seria, sumar los 4 filtro de banda ancha, stackear la imagen sumada y correr el isophote sobre esa imagen."
   ]
  },
  {
   "cell_type": "code",
   "execution_count": null,
   "id": "2b85c75b-15e6-4b2a-8b56-dbf7a8d91145",
   "metadata": {},
   "outputs": [],
   "source": [
    "x, y = 12395.807, 10467.678"
   ]
  },
  {
   "cell_type": "code",
   "execution_count": 1,
   "id": "7e378a19-365d-469b-ba4a-548a88d18c5c",
   "metadata": {},
   "outputs": [],
   "source": [
    "%matplotlib inline\n",
    "%load_ext autoreload \n",
    "%autoreload 2\n",
    "\n",
    "#from __future__ import print_function, \\\n",
    "#    division, \\\n",
    "#    absolute_import\n",
    "\n",
    "import os\n",
    "import sys\n",
    "import math\n",
    "import glob\n",
    "import copy\n",
    "import warnings\n",
    "import subprocess\n",
    "\n",
    "import sep\n",
    "import photutils\n",
    "\n",
    "import numpy as np\n",
    "\n",
    "import matplotlib as mpl\n",
    "import matplotlib.pyplot as plt\n",
    "import matplotlib.patches as mpatches\n",
    "import matplotlib.gridspec as gridspec\n",
    "from matplotlib.patches import Ellipse\n",
    "from matplotlib.ticker import NullFormatter, MaxNLocator, FormatStrFormatter\n",
    "from matplotlib.collections import PatchCollection\n",
    "from mpl_toolkits.axes_grid1.inset_locator import inset_axes\n",
    "plt.rc('text', usetex=True)\n",
    "\n",
    "#from astropy import wcs\n",
    "from astropy.wcs import WCS\n",
    "from astropy.io import fits\n",
    "from astropy.visualization import ZScaleInterval, \\\n",
    "    PercentileInterval, \\\n",
    "    AsymmetricPercentileInterval\n",
    "from astropy.convolution import Gaussian2DKernel\n",
    "from astropy.convolution import convolve\n",
    "\n",
    "# Increase the pixel stack for large image\n",
    "sep.set_extract_pixstack(1000000)"
   ]
  },
  {
   "cell_type": "code",
   "execution_count": 22,
   "id": "bf74f62f-cd9f-489f-a4b3-eac351d1fe6f",
   "metadata": {},
   "outputs": [
    {
     "ename": "ModuleNotFoundError",
     "evalue": "No module named 'kungpao.galsbp'",
     "output_type": "error",
     "traceback": [
      "\u001b[0;31m---------------------------------------------------------------------------\u001b[0m",
      "\u001b[0;31mModuleNotFoundError\u001b[0m                       Traceback (most recent call last)",
      "\u001b[0;32m/tmp/ipykernel_45771/2113475189.py\u001b[0m in \u001b[0;36m<module>\u001b[0;34m\u001b[0m\n\u001b[1;32m      3\u001b[0m \u001b[0;34m\u001b[0m\u001b[0m\n\u001b[1;32m      4\u001b[0m \u001b[0;32mfrom\u001b[0m \u001b[0mkungpao\u001b[0m \u001b[0;32mimport\u001b[0m \u001b[0mio\u001b[0m\u001b[0;34m\u001b[0m\u001b[0;34m\u001b[0m\u001b[0m\n\u001b[0;32m----> 5\u001b[0;31m \u001b[0;32mfrom\u001b[0m \u001b[0mkungpao\u001b[0m\u001b[0;34m.\u001b[0m\u001b[0mgalsbp\u001b[0m \u001b[0;32mimport\u001b[0m \u001b[0mgalSBP\u001b[0m\u001b[0;34m\u001b[0m\u001b[0;34m\u001b[0m\u001b[0m\n\u001b[0m\u001b[1;32m      6\u001b[0m \u001b[0;32mfrom\u001b[0m \u001b[0mkungpao\u001b[0m \u001b[0;32mimport\u001b[0m \u001b[0mutils\u001b[0m\u001b[0;34m\u001b[0m\u001b[0;34m\u001b[0m\u001b[0m\n\u001b[1;32m      7\u001b[0m \u001b[0;32mfrom\u001b[0m \u001b[0mkungpao\u001b[0m \u001b[0;32mimport\u001b[0m \u001b[0mdetection\u001b[0m\u001b[0;34m\u001b[0m\u001b[0;34m\u001b[0m\u001b[0m\n",
      "\u001b[0;31mModuleNotFoundError\u001b[0m: No module named 'kungpao.galsbp'"
     ]
    }
   ],
   "source": [
    "# Some useful functions from my code\n",
    "import kungpao\n",
    "\n",
    "from kungpao import io\n",
    "from kungpao.galsbp import galSBP\n",
    "from kungpao import utils\n",
    "from kungpao import detection\n",
    "from kungpao import imtools\n",
    "from kungpao.display import display_single, IMG_CMAP, SEG_CMAP"
   ]
  },
  {
   "cell_type": "code",
   "execution_count": 23,
   "id": "3b1ad157-8949-4a8a-b3a9-71dad5732b25",
   "metadata": {},
   "outputs": [],
   "source": [
    "# This is my shitty code...work in progress, but at least does not depend on Pyraf now\n",
    "import kungpao\n",
    "from kungpao.io import save_to_fits\n",
    "from kungpao.display import display_single\n",
    "from kungpao.isophote import galSBP, bmodel, plotting"
   ]
  },
  {
   "cell_type": "code",
   "execution_count": 57,
   "id": "edb2d09e-8e7d-4830-b1f3-3cabc9e1d76b",
   "metadata": {},
   "outputs": [
    {
     "data": {
      "text/plain": [
       "<module 'kungpao' from '/home/jpcalderon/.local/lib/python3.7/site-packages/kungpao-0.1.0-py3.7.egg/kungpao/__init__.py'>"
      ]
     },
     "execution_count": 57,
     "metadata": {},
     "output_type": "execute_result"
    }
   ],
   "source": [
    "kungpao"
   ]
  },
  {
   "cell_type": "code",
   "execution_count": 3,
   "id": "08317143-be8c-447b-b480-0f66fc9122c2",
   "metadata": {
    "tags": []
   },
   "outputs": [
    {
     "name": "stdout",
     "output_type": "stream",
     "text": [
      "(19785, 24770)\n"
     ]
    }
   ],
   "source": [
    "home = '/home/jpcalderon/'\n",
    "fitsdir = home + '2023/Fornax/notebooks/Campos/'\n",
    "output_dir = home + '2023/Fornax/notebooks/Campos/'\n",
    "\n",
    "img_fits = fitsdir + 'NGC1399_R.fits'\n",
    "msk_fits = ''\n",
    "\n",
    "g_img =  fits.open(img_fits)[0].data\n",
    "\n",
    "# Maks\n",
    "#mask = fits.open(msk_fits)[0].data\n",
    "\n",
    "print(g_img.shape)\n",
    "\n"
   ]
  },
  {
   "cell_type": "markdown",
   "id": "4b1c3880-7180-4460-8277-e7e210a6a092",
   "metadata": {},
   "source": [
    "# Make the mask for running isophote"
   ]
  },
  {
   "cell_type": "code",
   "execution_count": 10,
   "id": "6863c7e1-c2ba-4519-b6b5-245d5e6f49ac",
   "metadata": {},
   "outputs": [],
   "source": [
    "home = '/home/jpcalderon/'\n",
    "fitsdir = home + '2023/Fornax/notebooks/Campos/'\n",
    "output_dir = home + '2023/Fornax/notebooks/Campos/'\n",
    "\n",
    "filename = fitsdir + 'NGC1399_R.fits'\n",
    "with fits.open ( filename ) as hdul:\n",
    "    hdul.verify('fix')\n",
    "    image = hdul[0].data   \n",
    "    header = hdul[0].header\n",
    "    wcs = WCS ( filename, naxis = 2 )\n",
    "    \n",
    "# For running sep\n",
    "image = image.byteswap().newbyteorder()\n",
    "\n",
    "img_w, img_h = image.shape"
   ]
  },
  {
   "cell_type": "code",
   "execution_count": 49,
   "id": "21636457-23ea-4c51-9075-e8fc0b9e0f92",
   "metadata": {
    "tags": []
   },
   "outputs": [],
   "source": [
    "# build numpy masked arrays. In these images, pixels with no \n",
    "# information in then are signaled by the value zero. We use \n",
    "# that to build the masks.\n",
    "import numpy as np\n",
    "import numpy.ma as ma\n",
    "\n",
    "data_masked = ma.masked_equal(image, np.zeros(shape=image.shape))\n",
    "#data_masked = ma.masked_invalid(image)"
   ]
  },
  {
   "cell_type": "code",
   "execution_count": 54,
   "id": "da493f8b-de88-4c0d-8211-e588f2156575",
   "metadata": {},
   "outputs": [
    {
     "data": {
      "text/plain": [
       "array([[0., 0., 0., ..., 0., 0., 0.],\n",
       "       [0., 0., 0., ..., 0., 0., 0.],\n",
       "       [0., 0., 0., ..., 0., 0., 0.],\n",
       "       ...,\n",
       "       [0., 0., 0., ..., 0., 0., 0.],\n",
       "       [0., 0., 0., ..., 0., 0., 0.],\n",
       "       [0., 0., 0., ..., 0., 0., 0.]])"
      ]
     },
     "execution_count": 54,
     "metadata": {},
     "output_type": "execute_result"
    }
   ],
   "source": [
    "data_masked.fill_value"
   ]
  },
  {
   "cell_type": "code",
   "execution_count": 55,
   "id": "29c5de8c-0617-422f-aa33-1e16d7abfe61",
   "metadata": {},
   "outputs": [],
   "source": [
    "msk_fits = fitsdir + 'NGC1399_R_mask.fits'\n",
    "fits.writeto(msk_fits, data = data_masked.fill_value, header = header, overwrite = True)\n"
   ]
  },
  {
   "cell_type": "code",
   "execution_count": null,
   "id": "051d203c-b05b-4d90-a013-74f2f364a7be",
   "metadata": {},
   "outputs": [],
   "source": []
  },
  {
   "cell_type": "code",
   "execution_count": null,
   "id": "b7cc1923-fc03-43d3-b288-e5ded67ec2e3",
   "metadata": {},
   "outputs": [],
   "source": []
  },
  {
   "cell_type": "code",
   "execution_count": null,
   "id": "161359c0-31fa-4acc-9576-9124eeb6c32a",
   "metadata": {},
   "outputs": [],
   "source": []
  },
  {
   "cell_type": "code",
   "execution_count": null,
   "id": "cbae0009-bc4e-43a9-8317-f97fb2603f62",
   "metadata": {},
   "outputs": [],
   "source": []
  },
  {
   "cell_type": "code",
   "execution_count": 32,
   "id": "10747108-75c6-448c-ac80-50177b50515b",
   "metadata": {},
   "outputs": [],
   "source": [
    "# Galaxy center: \n",
    "#    could be values measured somewhere else, or just use image center as\n",
    "#    initial guess\n",
    "x0_ini, y0_ini = 12395.807, 12395.807\n",
    "\n",
    "# Axis ratio and Position angle:\n",
    "#     You could measure them elsewhere and fix them; \n",
    "#     Or you can determine them using isophote analysis\n",
    "#     Initial guesses are b/a=0.9, pa=0.0\n",
    "\n",
    "ba_ini, pa_ini = 0.9, 17.0\n",
    "\n",
    "# sma_ini: Initial semi-major axis length to start the measure\n",
    "#     Normally we pixel a small radii to start, but should contain more than a few pixels.\n",
    "# sma_min, sma_max: Minimum and maximum radius for isophote analysis\n",
    "#     Usually sma_min == 0, unless there is saturation or the center is masked out\n",
    "#     Maximum radius can be the size of the image. `Ellipse` will stop automatically when\n",
    "#     there is no signal\n",
    "\n",
    "sma_ini, sma_min, sma_max = 10.0, 0.0, 94.54545454545453\n",
    "\n",
    "# step: step size for relative flux change along the major axis\n",
    "#     This is in log scale; smaller step means finer radial binning, but poorer S/N per\n",
    "#     isophote and could lead to failed run.\n",
    "#     Small step size is not great idea if you want to determine the b/a or PA profile.\n",
    "step = 5.252525252525252 #( 52/18 ) / 0.55\n",
    "\n",
    "# stage: behaviour of Ellipse fitting\n",
    "#     Ellipse can fix certain parameters at the input values or fit everything\n",
    "#     1  Fit everything, let the center, shape of each isophote to be free\n",
    "#     2  Fix the central coordinate of every isophote at the x_cen / y_cen position\n",
    "#     3  Fix the central coordinate and shape of every isophote at input values\n",
    "#     4  This is the \"force photometry\" mode, need an external Ellipse output binary \n",
    "#        table as template (use `inEllip` parameter)\n",
    "# Here we start with stage 1\n",
    "stage = 1\n",
    "\n",
    "# integrade_mode: how to estimate the intensity along the isophote\n",
    "#     options are: mean, median, bi-linear\n",
    "#     For noisy data with masked regions, median seems to work well\n",
    "integrade_mode = 'median'\n",
    "\n",
    "# Along each isophote, `ellipse` can perform sigma clipping to remove outliers \n",
    "# Even with masks, this can help reduce the impact of contaminations and small structures\n",
    "# n_clip: number of sigma-clipping to run\n",
    "# low_clip: lower threshold. 2 means 2-sigma \n",
    "# upp_clip: upper threshold\n",
    "n_clip, low_clip, upp_clip = 2, 3.0, 3.0\n",
    "\n",
    "# Pixel scale, zeropoint, exposure time: convert measured intensity into surface brightness\n",
    "# Just fill the HSC coadd values\n",
    "pix_scale, zeropoint, exptime = 0.55, 25.0, 1.0\n",
    "\n",
    "# `galSBP` will try the fitting processes a few times if `ellipse` encounters some issues: e.g. \n",
    "# initial radius is not good, step size is too small, or fitting radius range is too large. \n",
    "# Each time, it will try to make it \"easier\"\n",
    "n_try_max = 2"
   ]
  },
  {
   "cell_type": "code",
   "execution_count": 56,
   "id": "3818f85d-6cff-4e2f-aa2c-50d8048cc749",
   "metadata": {},
   "outputs": [
    {
     "name": "stderr",
     "output_type": "stream",
     "text": [
      "os.zgtenv: error scanning `/usr/include/iraf.h'\n"
     ]
    },
    {
     "name": "stdout",
     "output_type": "stream",
     "text": [
      "ERROR (572, \"Out of memory\u0007\")\n"
     ]
    },
    {
     "ename": "Exception",
     "evalue": "Can not find the mask: temp_36R5J0K.fits.pl !",
     "output_type": "error",
     "traceback": [
      "\u001b[0;31m---------------------------------------------------------------------------\u001b[0m",
      "\u001b[0;31mException\u001b[0m                                 Traceback (most recent call last)",
      "\u001b[0;32m/tmp/ipykernel_45771/2133399484.py\u001b[0m in \u001b[0;36m<module>\u001b[0;34m\u001b[0m\n\u001b[1;32m      8\u001b[0m     \u001b[0mstage\u001b[0m\u001b[0;34m=\u001b[0m\u001b[0mstage\u001b[0m\u001b[0;34m,\u001b[0m \u001b[0mellipStep\u001b[0m\u001b[0;34m=\u001b[0m\u001b[0mstep\u001b[0m\u001b[0;34m,\u001b[0m\u001b[0;34m\u001b[0m\u001b[0;34m\u001b[0m\u001b[0m\n\u001b[1;32m      9\u001b[0m     \u001b[0muppClip\u001b[0m\u001b[0;34m=\u001b[0m\u001b[0mupp_clip\u001b[0m\u001b[0;34m,\u001b[0m \u001b[0mlowClip\u001b[0m\u001b[0;34m=\u001b[0m\u001b[0mlow_clip\u001b[0m\u001b[0;34m,\u001b[0m \u001b[0mnClip\u001b[0m\u001b[0;34m=\u001b[0m\u001b[0mn_clip\u001b[0m\u001b[0;34m,\u001b[0m\u001b[0;34m\u001b[0m\u001b[0;34m\u001b[0m\u001b[0m\n\u001b[0;32m---> 10\u001b[0;31m     maxTry=n_try_max, intMode=integrade_mode)\n\u001b[0m",
      "\u001b[0;32m~/.local/lib/python3.7/site-packages/kungpao-0.1.0-py3.7.egg/kungpao/isophote/galSBP.py\u001b[0m in \u001b[0;36mgalSBP\u001b[0;34m(image, mask, galX, galY, inEllip, maxSma, iniSma, galR, galQ, galPA, pix, bkg, stage, minSma, expTime, zpPhoto, maxTry, minIt, maxIt, outRatio, ellipStep, uppClip, lowClip, nClip, fracBad, intMode, conver, recenter, verbose, linearStep, saveOut, savePng, olthresh, harmonics, outerThreshold, updateIntens, psfSma, suffix, useZscale, hdu, imgType, useTflux, location)\u001b[0m\n\u001b[1;32m   1039\u001b[0m             \u001b[0;32mexcept\u001b[0m \u001b[0mException\u001b[0m\u001b[0;34m:\u001b[0m\u001b[0;34m\u001b[0m\u001b[0;34m\u001b[0m\u001b[0m\n\u001b[1;32m   1040\u001b[0m                 \u001b[0;32mpass\u001b[0m\u001b[0;34m\u001b[0m\u001b[0;34m\u001b[0m\u001b[0m\n\u001b[0;32m-> 1041\u001b[0;31m             \u001b[0;32mraise\u001b[0m \u001b[0mException\u001b[0m\u001b[0;34m(\u001b[0m\u001b[0;34m\"Can not find the mask: %s !\"\u001b[0m \u001b[0;34m%\u001b[0m \u001b[0mplFile\u001b[0m\u001b[0;34m)\u001b[0m\u001b[0;34m\u001b[0m\u001b[0;34m\u001b[0m\u001b[0m\n\u001b[0m\u001b[1;32m   1042\u001b[0m         \u001b[0mimageUse\u001b[0m \u001b[0;34m=\u001b[0m \u001b[0mimgTemp\u001b[0m\u001b[0;34m\u001b[0m\u001b[0;34m\u001b[0m\u001b[0m\n\u001b[1;32m   1043\u001b[0m     \u001b[0;32melse\u001b[0m\u001b[0;34m:\u001b[0m\u001b[0;34m\u001b[0m\u001b[0;34m\u001b[0m\u001b[0m\n",
      "\u001b[0;31mException\u001b[0m: Can not find the mask: temp_36R5J0K.fits.pl !"
     ]
    }
   ],
   "source": [
    "# If you know the center is not far from the image center, you can use a small `sma_ini` to save time.\n",
    "sma_ini_cen = 6\n",
    "\n",
    "ell_i_1, bin_i_1 = galSBP.galSBP(\n",
    "    filename, mask=msk_fits, galX=x0_ini, galY=y0_ini, galQ=ba_ini, galPA=pa_ini,\n",
    "    iniSma=sma_ini_cen, minSma=sma_min, maxSma=sma_max,\n",
    "    pix=pix_scale, zpPhoto=zeropoint, expTime=exptime, \n",
    "    stage=stage, ellipStep=step,\n",
    "    uppClip=upp_clip, lowClip=low_clip, nClip=n_clip, \n",
    "    maxTry=n_try_max, intMode=integrade_mode)"
   ]
  },
  {
   "cell_type": "code",
   "execution_count": 68,
   "id": "85a858df-b377-4c02-afe4-0daa203e1675",
   "metadata": {},
   "outputs": [
    {
     "ename": "ModuleNotFoundError",
     "evalue": "No module named 'kungpao.galsbp'",
     "output_type": "error",
     "traceback": [
      "\u001b[0;31m---------------------------------------------------------------------------\u001b[0m",
      "\u001b[0;31mModuleNotFoundError\u001b[0m                       Traceback (most recent call last)",
      "\u001b[0;32m/tmp/ipykernel_45771/218464212.py\u001b[0m in \u001b[0;36m<module>\u001b[0;34m\u001b[0m\n\u001b[1;32m      2\u001b[0m \u001b[0;34m\u001b[0m\u001b[0m\n\u001b[1;32m      3\u001b[0m \u001b[0;32mfrom\u001b[0m \u001b[0mkungpao\u001b[0m \u001b[0;32mimport\u001b[0m \u001b[0mio\u001b[0m\u001b[0;34m\u001b[0m\u001b[0;34m\u001b[0m\u001b[0m\n\u001b[0;32m----> 4\u001b[0;31m \u001b[0;32mfrom\u001b[0m \u001b[0mkungpao\u001b[0m\u001b[0;34m.\u001b[0m\u001b[0mgalsbp\u001b[0m \u001b[0;32mimport\u001b[0m \u001b[0mgalSBP\u001b[0m\u001b[0;34m\u001b[0m\u001b[0;34m\u001b[0m\u001b[0m\n\u001b[0m\u001b[1;32m      5\u001b[0m \u001b[0;32mfrom\u001b[0m \u001b[0mkungpao\u001b[0m \u001b[0;32mimport\u001b[0m \u001b[0mutils\u001b[0m\u001b[0;34m\u001b[0m\u001b[0;34m\u001b[0m\u001b[0m\n\u001b[1;32m      6\u001b[0m \u001b[0;32mfrom\u001b[0m \u001b[0mkungpao\u001b[0m \u001b[0;32mimport\u001b[0m \u001b[0mdetection\u001b[0m\u001b[0;34m\u001b[0m\u001b[0;34m\u001b[0m\u001b[0m\n",
      "\u001b[0;31mModuleNotFoundError\u001b[0m: No module named 'kungpao.galsbp'"
     ]
    }
   ],
   "source": [
    "# Some useful functions from my code\n",
    "\n",
    "from kungpao import io\n",
    "from kungpao.galsbp import galSBP\n",
    "from kungpao import utils\n",
    "from kungpao import detection\n",
    "from kungpao import imtools\n",
    "from kungpao.display import display_single, IMG_CMAP, SEG_CMAP"
   ]
  },
  {
   "cell_type": "code",
   "execution_count": 63,
   "id": "9c998621-c951-431f-8cc1-77c5a3b8a606",
   "metadata": {},
   "outputs": [],
   "source": [
    "# Convolution kernel I used for detecting objects on the image\n",
    "\n",
    "kernel3 = np.asarray([[0.092163, 0.221178, 0.296069, 0.221178, 0.092163],\n",
    "                      [0.221178, 0.530797, 0.710525, 0.530797, 0.221178],\n",
    "                      [0.296069, 0.710525, 0.951108, 0.710525, 0.296069],\n",
    "                      [0.221178, 0.530797, 0.710525, 0.530797, 0.221178],\n",
    "                      [0.092163, 0.221178, 0.296069, 0.221178, 0.092163]])\n",
    "\n",
    "# Directions to my IRAF executbles\n",
    "ISO = '/home/jpcalderon/2022/Antlia/profile/src/kungpao/kungpao/iraf/linux/x_isophote.e'\n",
    "TBL = '/home/jpcalderon/2022/Antlia/profile/src/kungpao/kungpao/iraf/linux/x_ttools.e'"
   ]
  },
  {
   "cell_type": "code",
   "execution_count": 66,
   "id": "f039449c-2916-4c0b-931d-0593ede8e450",
   "metadata": {},
   "outputs": [
    {
     "ename": "TypeError",
     "evalue": "galSBP() got an unexpected keyword argument 'isophote'",
     "output_type": "error",
     "traceback": [
      "\u001b[0;31m---------------------------------------------------------------------------\u001b[0m",
      "\u001b[0;31mTypeError\u001b[0m                                 Traceback (most recent call last)",
      "\u001b[0;32m/tmp/ipykernel_45771/1461947451.py\u001b[0m in \u001b[0;36m<module>\u001b[0;34m\u001b[0m\n\u001b[1;32m     16\u001b[0m                              \u001b[0msaveOut\u001b[0m\u001b[0;34m=\u001b[0m\u001b[0;32mTrue\u001b[0m\u001b[0;34m,\u001b[0m \u001b[0mplMask\u001b[0m\u001b[0;34m=\u001b[0m\u001b[0;32mTrue\u001b[0m\u001b[0;34m,\u001b[0m\u001b[0;34m\u001b[0m\u001b[0;34m\u001b[0m\u001b[0m\n\u001b[1;32m     17\u001b[0m                              \u001b[0mverbose\u001b[0m\u001b[0;34m=\u001b[0m\u001b[0;32mTrue\u001b[0m\u001b[0;34m,\u001b[0m \u001b[0msavePng\u001b[0m\u001b[0;34m=\u001b[0m\u001b[0;32mFalse\u001b[0m\u001b[0;34m,\u001b[0m\u001b[0;34m\u001b[0m\u001b[0;34m\u001b[0m\u001b[0m\n\u001b[0;32m---> 18\u001b[0;31m                              updateIntens=False)\n\u001b[0m",
      "\u001b[0;31mTypeError\u001b[0m: galSBP() got an unexpected keyword argument 'isophote'"
     ]
    }
   ],
   "source": [
    "ell_1, bin_1 = galSBP.galSBP(filename, mask=msk_fits,\n",
    "                             galX=x0_ini, galY=y0_ini,\n",
    "                             galQ=ba_ini, galPA=pa_ini,\n",
    "                             iniSma=sma_ini, \n",
    "                             minSma=sma_min, maxSma=sma_max,\n",
    "                             pix=pix_scale, zpPhoto=zeropoint,\n",
    "                             expTime=exptime, \n",
    "                             stage=stage,\n",
    "                             ellipStep=step,\n",
    "                             isophote=ISO, \n",
    "                             xttools=TBL, \n",
    "                             uppClip=upp_clip, lowClip=low_clip, \n",
    "                             nClip=n_clip, \n",
    "                             maxTry=3,\n",
    "                             intMode=integrade_mode, \n",
    "                             saveOut=True, plMask=True,\n",
    "                             verbose=True, savePng=False, \n",
    "                             updateIntens=False)"
   ]
  },
  {
   "cell_type": "code",
   "execution_count": null,
   "id": "f6c2e251-944c-46b2-ab76-9e11c1fa182a",
   "metadata": {},
   "outputs": [],
   "source": []
  },
  {
   "cell_type": "code",
   "execution_count": null,
   "id": "cca83fe1-c875-43ad-9f72-3c3fa9f4fe11",
   "metadata": {},
   "outputs": [],
   "source": []
  }
 ],
 "metadata": {
  "kernelspec": {
   "display_name": "Python 3 (ipykernel)",
   "language": "python",
   "name": "python3"
  },
  "language_info": {
   "codemirror_mode": {
    "name": "ipython",
    "version": 3
   },
   "file_extension": ".py",
   "mimetype": "text/x-python",
   "name": "python",
   "nbconvert_exporter": "python",
   "pygments_lexer": "ipython3",
   "version": "3.7.12"
  }
 },
 "nbformat": 4,
 "nbformat_minor": 5
}
